{
  "nbformat": 4,
  "nbformat_minor": 0,
  "metadata": {
    "colab": {
      "name": "TFlite.ipynb",
      "provenance": []
    },
    "kernelspec": {
      "name": "python3",
      "display_name": "Python 3"
    },
    "language_info": {
      "name": "python"
    }
  },
  "cells": [
    {
      "cell_type": "markdown",
      "source": [
        "##This notebook is for creating and testing tensorflowlite model from tensorflow model created from my first notebook"
      ],
      "metadata": {
        "id": "e7xLDu4nWybv"
      }
    },
    {
      "cell_type": "code",
      "source": [
        "!pip install keras-image-helper"
      ],
      "metadata": {
        "colab": {
          "base_uri": "https://localhost:8080/"
        },
        "id": "QLs2ZsVgxxjs",
        "outputId": "e7f41916-a501-4216-d1f9-497e57a2c9e4"
      },
      "execution_count": 1,
      "outputs": [
        {
          "output_type": "stream",
          "name": "stdout",
          "text": [
            "Collecting keras-image-helper\n",
            "  Downloading keras_image_helper-0.0.1-py3-none-any.whl (4.6 kB)\n",
            "Requirement already satisfied: numpy in /usr/local/lib/python3.7/dist-packages (from keras-image-helper) (1.19.5)\n",
            "Requirement already satisfied: pillow in /usr/local/lib/python3.7/dist-packages (from keras-image-helper) (7.1.2)\n",
            "Installing collected packages: keras-image-helper\n",
            "Successfully installed keras-image-helper-0.0.1\n"
          ]
        }
      ]
    },
    {
      "cell_type": "code",
      "source": [
        "!pip install --extra-index-url https://google-coral.github.io/py-repo/ tflite_runtime"
      ],
      "metadata": {
        "colab": {
          "base_uri": "https://localhost:8080/"
        },
        "id": "A-Iig1Hvxy01",
        "outputId": "a2bcc01a-6919-45e1-ac4b-53f6ec6d967f"
      },
      "execution_count": 2,
      "outputs": [
        {
          "output_type": "stream",
          "name": "stdout",
          "text": [
            "Looking in indexes: https://pypi.org/simple, https://google-coral.github.io/py-repo/\n",
            "Collecting tflite_runtime\n",
            "  Downloading tflite_runtime-2.7.0-cp37-cp37m-manylinux2014_x86_64.whl (2.2 MB)\n",
            "\u001b[K     |████████████████████████████████| 2.2 MB 8.3 MB/s \n",
            "\u001b[?25hRequirement already satisfied: numpy>=1.19.2 in /usr/local/lib/python3.7/dist-packages (from tflite_runtime) (1.19.5)\n",
            "Installing collected packages: tflite-runtime\n",
            "Successfully installed tflite-runtime-2.7.0\n"
          ]
        }
      ]
    },
    {
      "cell_type": "code",
      "source": [
        ""
      ],
      "metadata": {
        "id": "mJpKagaQyKIN"
      },
      "execution_count": null,
      "outputs": []
    },
    {
      "cell_type": "code",
      "execution_count": 3,
      "metadata": {
        "id": "z1N8dHEa9Mpq"
      },
      "outputs": [],
      "source": [
        "import numpy as np\n",
        "\n",
        "import tensorflow as tf\n",
        "from tensorflow import keras"
      ]
    },
    {
      "cell_type": "code",
      "source": [
        "import tensorflow.lite as tflite"
      ],
      "metadata": {
        "id": "DA77UjDV9a5R"
      },
      "execution_count": 4,
      "outputs": []
    },
    {
      "cell_type": "code",
      "source": [
        "from PIL import Image"
      ],
      "metadata": {
        "id": "8OykyfHNsORl"
      },
      "execution_count": 5,
      "outputs": []
    },
    {
      "cell_type": "code",
      "source": [
        "model = keras.models.load_model('/content/drive/MyDrive/xception_v4_1_01_0.567.h5')"
      ],
      "metadata": {
        "id": "WMAq3KI-nGcR"
      },
      "execution_count": 6,
      "outputs": []
    },
    {
      "cell_type": "code",
      "source": [
        "converter = tf.lite.TFLiteConverter.from_keras_model(model)\n",
        "\n",
        "tflite_model = converter.convert()\n",
        "\n",
        "with open('xception_v4_1_01_0.567.tflite', 'wb') as f_out:\n",
        "    f_out.write(tflite_model)"
      ],
      "metadata": {
        "colab": {
          "base_uri": "https://localhost:8080/"
        },
        "id": "J2DKOVFUnWZF",
        "outputId": "f3b401b3-99ec-4a19-e251-0b3cb783854e"
      },
      "execution_count": null,
      "outputs": [
        {
          "output_type": "stream",
          "name": "stdout",
          "text": [
            "INFO:tensorflow:Assets written to: /tmp/tmpj9js813l/assets\n"
          ]
        },
        {
          "output_type": "stream",
          "name": "stderr",
          "text": [
            "INFO:tensorflow:Assets written to: /tmp/tmpj9js813l/assets\n",
            "WARNING:absl:Buffer deduplication procedure will be skipped when flatbuffer library is not properly loaded\n"
          ]
        }
      ]
    },
    {
      "cell_type": "code",
      "source": [
        "import tflite_runtime.interpreter as tflite"
      ],
      "metadata": {
        "id": "l0sBaF3Fyqg-"
      },
      "execution_count": null,
      "outputs": []
    },
    {
      "cell_type": "code",
      "source": [
        "interpreter = tflite.Interpreter(model_path='/content/drive/MyDrive/xception_v4_1_01_0.567.tflite')\n",
        "interpreter.allocate_tensors()"
      ],
      "metadata": {
        "id": "b0INMDq9mkSK"
      },
      "execution_count": null,
      "outputs": []
    },
    {
      "cell_type": "code",
      "source": [
        "input_index = interpreter.get_input_details()[0]['index']"
      ],
      "metadata": {
        "id": "TtSOOsVbpIot"
      },
      "execution_count": null,
      "outputs": []
    },
    {
      "cell_type": "code",
      "source": [
        "output_index = interpreter.get_output_details()[0]['index']"
      ],
      "metadata": {
        "id": "WdycNYvGpIzl"
      },
      "execution_count": null,
      "outputs": []
    },
    {
      "cell_type": "code",
      "source": [
        "def preprocess_input(diir):\n",
        "  with Image.open(diir) as img:\n",
        "    img = img.resize((250, 250), Image.NEAREST)\n",
        "  x = np.array(img, dtype='float32')\n",
        "  X = np.array([x])\n",
        "  X = X/255\n",
        "  return X"
      ],
      "metadata": {
        "id": "1HgOBKFlskeR"
      },
      "execution_count": null,
      "outputs": []
    },
    {
      "cell_type": "code",
      "source": [
        "def preprocessIMG(fu):\n",
        "  img = load_img(fullname, target_size=(250, 250))\n",
        "  X = np.array(img)\n",
        "  X = np.array([X])\n",
        "  X = X/255\n",
        "  return X"
      ],
      "metadata": {
        "id": "UBg2EBFxqjAe"
      },
      "execution_count": null,
      "outputs": []
    },
    {
      "cell_type": "code",
      "source": [
        "pic = preprocess_input('/content/drive/MyDrive/610968546.jpg')\n"
      ],
      "metadata": {
        "id": "HNAeHr_yqFvy"
      },
      "execution_count": null,
      "outputs": []
    },
    {
      "cell_type": "code",
      "source": [
        "interpreter.set_tensor(input_index, pic)\n",
        "interpreter.invoke()\n",
        "preds = interpreter.get_tensor(output_index)"
      ],
      "metadata": {
        "id": "caf23AYmrWED"
      },
      "execution_count": null,
      "outputs": []
    },
    {
      "cell_type": "code",
      "source": [
        "preds"
      ],
      "metadata": {
        "colab": {
          "base_uri": "https://localhost:8080/"
        },
        "id": "71vOxi8kFTLI",
        "outputId": "1ee81d7d-84bb-46ad-a4ff-e72844ac7297"
      },
      "execution_count": null,
      "outputs": [
        {
          "output_type": "execute_result",
          "data": {
            "text/plain": [
              "array([[7.5975990e-01, 1.8870127e-01, 3.6846798e-02, 7.2378032e-05,\n",
              "        1.4619679e-02]], dtype=float32)"
            ]
          },
          "metadata": {},
          "execution_count": 45
        }
      ]
    },
    {
      "cell_type": "code",
      "source": [
        "preds[0].tolist()"
      ],
      "metadata": {
        "colab": {
          "base_uri": "https://localhost:8080/"
        },
        "id": "IUmJVkk6FXwv",
        "outputId": "b4602ad1-96c5-4dc4-fda0-9c53527d056e"
      },
      "execution_count": null,
      "outputs": [
        {
          "output_type": "execute_result",
          "data": {
            "text/plain": [
              "[0.7597599029541016,\n",
              " 0.18870127201080322,\n",
              " 0.03684679791331291,\n",
              " 7.23780322005041e-05,\n",
              " 0.014619679190218449]"
            ]
          },
          "metadata": {},
          "execution_count": 47
        }
      ]
    },
    {
      "cell_type": "code",
      "source": [
        "disease_class_list = ['Cassava Bacterial Blight (CBB)',\n",
        " 'Cassava Brown Streak Disease (CBSD)',\n",
        " 'Cassava Green Mottle (CGM)',\n",
        " 'Cassava Mosaic Disease (CMD)',\n",
        " 'Healthy']"
      ],
      "metadata": {
        "id": "7SbAyUJgvxEh"
      },
      "execution_count": null,
      "outputs": []
    },
    {
      "cell_type": "code",
      "source": [
        "disease_class_list[np.argmax(preds)]"
      ],
      "metadata": {
        "colab": {
          "base_uri": "https://localhost:8080/",
          "height": 36
        },
        "id": "EPqa5DGjvQFi",
        "outputId": "9d2325c6-3e4c-4337-db26-035f3c8606ff"
      },
      "execution_count": null,
      "outputs": [
        {
          "output_type": "execute_result",
          "data": {
            "application/vnd.google.colaboratory.intrinsic+json": {
              "type": "string"
            },
            "text/plain": [
              "'Cassava Bacterial Blight (CBB)'"
            ]
          },
          "metadata": {},
          "execution_count": 44
        }
      ]
    },
    {
      "cell_type": "code",
      "source": [
        "def predict(diir):\n",
        "  with Image.open(diir) as img:\n",
        "    img = img.resize((250, 250), Image.NEAREST)\n",
        "  x = np.array(img, dtype='float32')\n",
        "  X = np.array([x])\n",
        "  X = X/255\n",
        "  interpreter.set_tensor(input_index, X)\n",
        "  interpreter.invoke()\n",
        "  preds = interpreter.get_tensor(output_index)\n",
        "  float_predictions = preds[0].tolist()\n",
        "  return dict(zip(disease_class_list, float_predictions)),disease_class_list[np.argmax(preds)]"
      ],
      "metadata": {
        "id": "MqjqviuWOCp_"
      },
      "execution_count": null,
      "outputs": []
    },
    {
      "cell_type": "code",
      "source": [
        "predict('/content/drive/MyDrive/610968546.jpg')"
      ],
      "metadata": {
        "colab": {
          "base_uri": "https://localhost:8080/"
        },
        "id": "mE7ktZvVOFXM",
        "outputId": "f1efd7a6-c5d8-4977-8362-d4f07e796f03"
      },
      "execution_count": null,
      "outputs": [
        {
          "output_type": "execute_result",
          "data": {
            "text/plain": [
              "({'Cassava Bacterial Blight (CBB)': 0.7597599029541016,\n",
              "  'Cassava Brown Streak Disease (CBSD)': 0.18870127201080322,\n",
              "  'Cassava Green Mottle (CGM)': 0.03684679791331291,\n",
              "  'Cassava Mosaic Disease (CMD)': 7.23780322005041e-05,\n",
              "  'Healthy': 0.014619679190218449},\n",
              " 'Cassava Bacterial Blight (CBB)')"
            ]
          },
          "metadata": {},
          "execution_count": 54
        }
      ]
    }
  ]
}